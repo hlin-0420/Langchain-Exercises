{
  "cells": [
    {
      "cell_type": "raw",
      "id": "ee14951b",
      "metadata": {
        "id": "ee14951b"
      },
      "source": [
        "---\n",
        "sidebar_position: 0\n",
        "---"
      ]
    },
    {
      "cell_type": "markdown",
      "id": "105cddce",
      "metadata": {
        "id": "105cddce"
      },
      "source": [
        "# How to use a vectorstore as a retriever\n",
        "\n",
        "A vector store retriever is a [retriever](/docs/concepts/retrievers/) that uses a [vector store](/docs/concepts/vectorstores/) to retrieve documents. It is a lightweight wrapper around the vector store class to make it conform to the retriever [interface](/docs/concepts/runnables/).\n",
        "It uses the search methods implemented by a vector store, like similarity search and MMR, to query the texts in the vector store.\n",
        "\n",
        "In this guide we will cover:\n",
        "\n",
        "1. How to instantiate a retriever from a vectorstore;\n",
        "2. How to specify the search type for the retriever;\n",
        "3. How to specify additional search parameters, such as threshold scores and top-k.\n",
        "\n",
        "## Creating a retriever from a vectorstore\n",
        "\n",
        "You can build a retriever from a vectorstore using its [.as_retriever](https://python.langchain.com/api_reference/core/vectorstores/langchain_core.vectorstores.base.VectorStore.html#langchain_core.vectorstores.base.VectorStore.as_retriever) method. Let's walk through an example.\n",
        "\n",
        "First we instantiate a vectorstore. We will use an in-memory [FAISS](https://python.langchain.com/api_reference/community/vectorstores/langchain_community.vectorstores.faiss.FAISS.html) vectorstore:"
      ]
    },
    {
      "cell_type": "code",
      "execution_count": 1,
      "id": "174e3c69",
      "metadata": {
        "id": "174e3c69"
      },
      "outputs": [],
      "source": [
        "from langchain_community.document_loaders import TextLoader\n",
        "from langchain_community.vectorstores import FAISS\n",
        "from langchain_openai import OpenAIEmbeddings\n",
        "from langchain_text_splitters import CharacterTextSplitter\n",
        "\n",
        "loader = TextLoader(\"state_of_the_union.txt\", encoding=\"utf-8\")\n",
        "\n",
        "documents = loader.load()\n",
        "text_splitter = CharacterTextSplitter(chunk_size=1000, chunk_overlap=0)\n",
        "texts = text_splitter.split_documents(documents)\n",
        "embeddings = OpenAIEmbeddings()\n",
        "vectorstore = FAISS.from_documents(texts, embeddings)"
      ]
    },
    {
      "cell_type": "markdown",
      "id": "6f6e65a1-5eb4-4165-b06b-9bb40624a8d8",
      "metadata": {
        "id": "6f6e65a1-5eb4-4165-b06b-9bb40624a8d8"
      },
      "source": [
        "We can then instantiate a retriever:"
      ]
    },
    {
      "cell_type": "code",
      "execution_count": 2,
      "id": "52df5f55",
      "metadata": {
        "id": "52df5f55"
      },
      "outputs": [],
      "source": [
        "retriever = vectorstore.as_retriever()"
      ]
    },
    {
      "cell_type": "markdown",
      "id": "08f8b820-5912-49c1-9d76-40be0571dffb",
      "metadata": {
        "id": "08f8b820-5912-49c1-9d76-40be0571dffb"
      },
      "source": [
        "This creates a retriever (specifically a [VectorStoreRetriever](https://python.langchain.com/api_reference/core/vectorstores/langchain_core.vectorstores.base.VectorStoreRetriever.html)), which we can use in the usual way:"
      ]
    },
    {
      "cell_type": "code",
      "execution_count": 3,
      "id": "32334fda",
      "metadata": {
        "id": "32334fda"
      },
      "outputs": [],
      "source": [
        "query = \"what did the president say about ketanji brown jackson?\"\n",
        "docs = retriever.invoke(query)"
      ]
    },
    {
      "cell_type": "code",
      "execution_count": 4,
      "id": "fb2e0e6e",
      "metadata": {},
      "outputs": [
        {
          "name": "stdout",
          "output_type": "stream",
          "text": [
            "\n",
            "Top documents retrieved for query: \"what did the president say about ketanji brown jackson?\"\n",
            "\n",
            "--- Document 1 ---\n",
            "Tonight. I call on the Senate to: Pass the Freedom to Vote Act. Pass the John Lewis Voting Rights Act. And while you’re at it, pass the Disclose Act so Americans can know who is funding our elections. \n",
            "\n",
            "Tonight, I’d like to honor someone who has dedicated his life to serve this country: Justice Stephen Breyer—an Army veteran, Constitutional scholar, and retiring Justice of the United States Supreme Court. Justice Breyer, thank you for your service. \n",
            "\n",
            "One of the most serious constitutional responsibilities a President has is nominating someone to serve on the United States Supreme Court. \n",
            "\n",
            "And I did that 4 days ago, when I nominated Circuit Court of Appeals Judge Ketanji Brown Jackson. One of our nation’s top legal minds, who will continue Justice Breyer’s legacy of excellence.\n",
            "\n",
            "--- Document 2 ---\n",
            "A former top litigator in private practice. A former federal public defender. And from a family of public school educators and police officers. A consensus builder. Since she’s been nominated, she’s received a broad range of support—from the Fraternal Order of Police to former judges appointed by Democrats and Republicans. \n",
            "\n",
            "And if we are to advance liberty and justice, we need to secure the Border and fix the immigration system. \n",
            "\n",
            "We can do both. At our border, we’ve installed new technology like cutting-edge scanners to better detect drug smuggling.  \n",
            "\n",
            "We’ve set up joint patrols with Mexico and Guatemala to catch more human traffickers.  \n",
            "\n",
            "We’re putting in place dedicated immigration judges so families fleeing persecution and violence can have their cases heard faster. \n",
            "\n",
            "We’re securing commitments and supporting partners in South and Central America to host more refugees and secure their own borders.\n",
            "\n",
            "--- Document 3 ---\n",
            "Tonight, I’m announcing a crackdown on these companies overcharging American businesses and consumers. \n",
            "\n",
            "And as Wall Street firms take over more nursing homes, quality in those homes has gone down and costs have gone up.  \n",
            "\n",
            "That ends on my watch. \n",
            "\n",
            "Medicare is going to set higher standards for nursing homes and make sure your loved ones get the care they deserve and expect. \n",
            "\n",
            "We’ll also cut costs and keep the economy going strong by giving workers a fair shot, provide more training and apprenticeships, hire them based on their skills not degrees. \n",
            "\n",
            "Let’s pass the Paycheck Fairness Act and paid leave.  \n",
            "\n",
            "Raise the minimum wage to $15 an hour and extend the Child Tax Credit, so no one has to raise a family in poverty. \n",
            "\n",
            "Let’s increase Pell Grants and increase our historic support of HBCUs, and invest in what Jill—our First Lady who teaches full-time—calls America’s best-kept secret: community colleges.\n",
            "\n",
            "--- Document 4 ---\n",
            "Vice President Harris and I ran for office with a new economic vision for America. \n",
            "\n",
            "Invest in America. Educate Americans. Grow the workforce. Build the economy from the bottom up  \n",
            "and the middle out, not from the top down.  \n",
            "\n",
            "Because we know that when the middle class grows, the poor have a ladder up and the wealthy do very well. \n",
            "\n",
            "America used to have the best roads, bridges, and airports on Earth. \n",
            "\n",
            "Now our infrastructure is ranked 13th in the world. \n",
            "\n",
            "We won’t be able to compete for the jobs of the 21st Century if we don’t fix that. \n",
            "\n",
            "That’s why it was so important to pass the Bipartisan Infrastructure Law—the most sweeping investment to rebuild America in history. \n",
            "\n",
            "This was a bipartisan effort, and I want to thank the members of both parties who worked to make it happen. \n",
            "\n",
            "We’re done talking about infrastructure weeks. \n",
            "\n",
            "We’re going to have an infrastructure decade.\n",
            "\n"
          ]
        }
      ],
      "source": [
        "# Print retrieved documents\n",
        "print(f\"\\nTop documents retrieved for query: \\\"{query}\\\"\\n\")\n",
        "for i, doc in enumerate(docs):\n",
        "    print(f\"--- Document {i+1} ---\")\n",
        "    print(doc.page_content)\n",
        "    print()"
      ]
    },
    {
      "cell_type": "markdown",
      "id": "fd7b19f0",
      "metadata": {
        "id": "fd7b19f0"
      },
      "source": [
        "## Maximum marginal relevance retrieval\n",
        "By default, the vector store retriever uses similarity search. If the underlying vector store supports maximum marginal relevance search, you can specify that as the search type.\n",
        "\n",
        "This effectively specifies what method on the underlying vectorstore is used (e.g., `similarity_search`, `max_marginal_relevance_search`, etc.)."
      ]
    },
    {
      "cell_type": "code",
      "execution_count": 5,
      "id": "b286ac04",
      "metadata": {
        "id": "b286ac04"
      },
      "outputs": [],
      "source": [
        "retriever = vectorstore.as_retriever(search_type=\"mmr\")"
      ]
    },
    {
      "cell_type": "code",
      "execution_count": 6,
      "id": "07f937f7",
      "metadata": {
        "id": "07f937f7"
      },
      "outputs": [],
      "source": [
        "query = \"what did the president say about ketanji brown jackson?\"\n",
        "docs = retriever.invoke(query)"
      ]
    },
    {
      "cell_type": "code",
      "execution_count": 7,
      "id": "9494a17e",
      "metadata": {},
      "outputs": [
        {
          "name": "stdout",
          "output_type": "stream",
          "text": [
            "\n",
            "Top documents retrieved for query: \"what did the president say about ketanji brown jackson?\"\n",
            "\n",
            "--- Document 1 ---\n",
            "Tonight. I call on the Senate to: Pass the Freedom to Vote Act. Pass the John Lewis Voting Rights Act. And while you’re at it, pass the Disclose Act so Americans can know who is funding our elections. \n",
            "\n",
            "Tonight, I’d like to honor someone who has dedicated his life to serve this country: Justice Stephen Breyer—an Army veteran, Constitutional scholar, and retiring Justice of the United States Supreme Court. Justice Breyer, thank you for your service. \n",
            "\n",
            "One of the most serious constitutional responsibilities a President has is nominating someone to serve on the United States Supreme Court. \n",
            "\n",
            "And I did that 4 days ago, when I nominated Circuit Court of Appeals Judge Ketanji Brown Jackson. One of our nation’s top legal minds, who will continue Justice Breyer’s legacy of excellence.\n",
            "\n",
            "--- Document 2 ---\n",
            "As Ohio Senator Sherrod Brown says, “It’s time to bury the label “Rust Belt.” \n",
            "\n",
            "It’s time. \n",
            "\n",
            "But with all the bright spots in our economy, record job growth and higher wages, too many families are struggling to keep up with the bills.  \n",
            "\n",
            "Inflation is robbing them of the gains they might otherwise feel. \n",
            "\n",
            "I get it. That’s why my top priority is getting prices under control. \n",
            "\n",
            "Look, our economy roared back faster than most predicted, but the pandemic meant that businesses had a hard time hiring enough workers to keep up production in their factories. \n",
            "\n",
            "The pandemic also disrupted global supply chains. \n",
            "\n",
            "When factories close, it takes longer to make goods and get them from the warehouse to the store, and prices go up. \n",
            "\n",
            "Look at cars. \n",
            "\n",
            "Last year, there weren’t enough semiconductors to make all the cars that people wanted to buy. \n",
            "\n",
            "And guess what, prices of automobiles went up. \n",
            "\n",
            "So—we have a choice. \n",
            "\n",
            "One way to fight inflation is to drive down wages and make Americans poorer.\n",
            "\n",
            "--- Document 3 ---\n",
            "One was stationed at bases and breathing in toxic smoke from “burn pits” that incinerated wastes of war—medical and hazard material, jet fuel, and more. \n",
            "\n",
            "When they came home, many of the world’s fittest and best trained warriors were never the same. \n",
            "\n",
            "Headaches. Numbness. Dizziness. \n",
            "\n",
            "A cancer that would put them in a flag-draped coffin. \n",
            "\n",
            "I know. \n",
            "\n",
            "One of those soldiers was my son Major Beau Biden. \n",
            "\n",
            "We don’t know for sure if a burn pit was the cause of his brain cancer, or the diseases of so many of our troops. \n",
            "\n",
            "But I’m committed to finding out everything we can. \n",
            "\n",
            "Committed to military families like Danielle Robinson from Ohio. \n",
            "\n",
            "The widow of Sergeant First Class Heath Robinson.  \n",
            "\n",
            "He was born a soldier. Army National Guard. Combat medic in Kosovo and Iraq. \n",
            "\n",
            "Stationed near Baghdad, just yards from burn pits the size of football fields. \n",
            "\n",
            "Heath’s widow Danielle is here with us tonight. They loved going to Ohio State football games. He loved building Legos with their daughter.\n",
            "\n",
            "--- Document 4 ---\n",
            "We can’t change how divided we’ve been. But we can change how we move forward—on COVID-19 and other issues we must face together. \n",
            "\n",
            "I recently visited the New York City Police Department days after the funerals of Officer Wilbert Mora and his partner, Officer Jason Rivera. \n",
            "\n",
            "They were responding to a 9-1-1 call when a man shot and killed them with a stolen gun. \n",
            "\n",
            "Officer Mora was 27 years old. \n",
            "\n",
            "Officer Rivera was 22. \n",
            "\n",
            "Both Dominican Americans who’d grown up on the same streets they later chose to patrol as police officers. \n",
            "\n",
            "I spoke with their families and told them that we are forever in debt for their sacrifice, and we will carry on their mission to restore the trust and safety every community deserves. \n",
            "\n",
            "I’ve worked on these issues a long time. \n",
            "\n",
            "I know what works: Investing in crime prevention and community police officers who’ll walk the beat, who’ll know the neighborhood, and who can restore trust and safety.\n",
            "\n"
          ]
        }
      ],
      "source": [
        "# Print retrieved documents\n",
        "print(f\"\\nTop documents retrieved for query: \\\"{query}\\\"\\n\")\n",
        "for i, doc in enumerate(docs):\n",
        "    print(f\"--- Document {i+1} ---\")\n",
        "    print(doc.page_content)\n",
        "    print()"
      ]
    },
    {
      "cell_type": "markdown",
      "id": "6ce77789",
      "metadata": {
        "id": "6ce77789"
      },
      "source": [
        "## Passing search parameters\n",
        "\n",
        "We can pass parameters to the underlying vectorstore's search methods using `search_kwargs`.\n",
        "\n",
        "### Similarity score threshold retrieval\n",
        "\n",
        "For example, we can set a similarity score threshold and only return documents with a score above that threshold."
      ]
    },
    {
      "cell_type": "code",
      "execution_count": 8,
      "id": "dbb38a03",
      "metadata": {
        "id": "dbb38a03"
      },
      "outputs": [],
      "source": [
        "retriever = vectorstore.as_retriever(\n",
        "    search_type=\"similarity_score_threshold\", search_kwargs={\"score_threshold\": 0.5}\n",
        ")"
      ]
    },
    {
      "cell_type": "code",
      "execution_count": 9,
      "id": "56f6c9ae",
      "metadata": {
        "id": "56f6c9ae"
      },
      "outputs": [],
      "source": [
        "query = \"what did the president say about ketanji brown jackson?\"\n",
        "docs = retriever.invoke(query)"
      ]
    },
    {
      "cell_type": "code",
      "execution_count": 10,
      "id": "2021c3d5",
      "metadata": {},
      "outputs": [
        {
          "name": "stdout",
          "output_type": "stream",
          "text": [
            "\n",
            "Top documents retrieved for query: \"what did the president say about ketanji brown jackson?\"\n",
            "\n",
            "--- Document 1 ---\n",
            "Tonight. I call on the Senate to: Pass the Freedom to Vote Act. Pass the John Lewis Voting Rights Act. And while you’re at it, pass the Disclose Act so Americans can know who is funding our elections. \n",
            "\n",
            "Tonight, I’d like to honor someone who has dedicated his life to serve this country: Justice Stephen Breyer—an Army veteran, Constitutional scholar, and retiring Justice of the United States Supreme Court. Justice Breyer, thank you for your service. \n",
            "\n",
            "One of the most serious constitutional responsibilities a President has is nominating someone to serve on the United States Supreme Court. \n",
            "\n",
            "And I did that 4 days ago, when I nominated Circuit Court of Appeals Judge Ketanji Brown Jackson. One of our nation’s top legal minds, who will continue Justice Breyer’s legacy of excellence.\n",
            "\n",
            "--- Document 2 ---\n",
            "A former top litigator in private practice. A former federal public defender. And from a family of public school educators and police officers. A consensus builder. Since she’s been nominated, she’s received a broad range of support—from the Fraternal Order of Police to former judges appointed by Democrats and Republicans. \n",
            "\n",
            "And if we are to advance liberty and justice, we need to secure the Border and fix the immigration system. \n",
            "\n",
            "We can do both. At our border, we’ve installed new technology like cutting-edge scanners to better detect drug smuggling.  \n",
            "\n",
            "We’ve set up joint patrols with Mexico and Guatemala to catch more human traffickers.  \n",
            "\n",
            "We’re putting in place dedicated immigration judges so families fleeing persecution and violence can have their cases heard faster. \n",
            "\n",
            "We’re securing commitments and supporting partners in South and Central America to host more refugees and secure their own borders.\n",
            "\n",
            "--- Document 3 ---\n",
            "Tonight, I’m announcing a crackdown on these companies overcharging American businesses and consumers. \n",
            "\n",
            "And as Wall Street firms take over more nursing homes, quality in those homes has gone down and costs have gone up.  \n",
            "\n",
            "That ends on my watch. \n",
            "\n",
            "Medicare is going to set higher standards for nursing homes and make sure your loved ones get the care they deserve and expect. \n",
            "\n",
            "We’ll also cut costs and keep the economy going strong by giving workers a fair shot, provide more training and apprenticeships, hire them based on their skills not degrees. \n",
            "\n",
            "Let’s pass the Paycheck Fairness Act and paid leave.  \n",
            "\n",
            "Raise the minimum wage to $15 an hour and extend the Child Tax Credit, so no one has to raise a family in poverty. \n",
            "\n",
            "Let’s increase Pell Grants and increase our historic support of HBCUs, and invest in what Jill—our First Lady who teaches full-time—calls America’s best-kept secret: community colleges.\n",
            "\n",
            "--- Document 4 ---\n",
            "Vice President Harris and I ran for office with a new economic vision for America. \n",
            "\n",
            "Invest in America. Educate Americans. Grow the workforce. Build the economy from the bottom up  \n",
            "and the middle out, not from the top down.  \n",
            "\n",
            "Because we know that when the middle class grows, the poor have a ladder up and the wealthy do very well. \n",
            "\n",
            "America used to have the best roads, bridges, and airports on Earth. \n",
            "\n",
            "Now our infrastructure is ranked 13th in the world. \n",
            "\n",
            "We won’t be able to compete for the jobs of the 21st Century if we don’t fix that. \n",
            "\n",
            "That’s why it was so important to pass the Bipartisan Infrastructure Law—the most sweeping investment to rebuild America in history. \n",
            "\n",
            "This was a bipartisan effort, and I want to thank the members of both parties who worked to make it happen. \n",
            "\n",
            "We’re done talking about infrastructure weeks. \n",
            "\n",
            "We’re going to have an infrastructure decade.\n",
            "\n"
          ]
        }
      ],
      "source": [
        "# Print retrieved documents\n",
        "print(f\"\\nTop documents retrieved for query: \\\"{query}\\\"\\n\")\n",
        "for i, doc in enumerate(docs):\n",
        "    print(f\"--- Document {i+1} ---\")\n",
        "    print(doc.page_content)\n",
        "    print()"
      ]
    },
    {
      "cell_type": "markdown",
      "id": "329f5b26",
      "metadata": {
        "id": "329f5b26"
      },
      "source": [
        "### Specifying top k\n",
        "\n",
        "We can also limit the number of documents `k` returned by the retriever."
      ]
    },
    {
      "cell_type": "code",
      "execution_count": null,
      "id": "d712c91d",
      "metadata": {
        "id": "d712c91d"
      },
      "outputs": [],
      "source": [
        "retriever = vectorstore.as_retriever(search_kwargs={\"k\": 1})"
      ]
    },
    {
      "cell_type": "code",
      "execution_count": null,
      "id": "a79b573b",
      "metadata": {
        "id": "a79b573b",
        "outputId": "804ef1da-dc2d-4656-c909-1ea9b720f9e7"
      },
      "outputs": [],
      "source": [
        "docs = retriever.invoke(\"what did the president say about ketanji brown jackson?\")\n",
        "len(docs)"
      ]
    }
  ],
  "metadata": {
    "colab": {
      "provenance": []
    },
    "kernelspec": {
      "display_name": "venv",
      "language": "python",
      "name": "python3"
    },
    "language_info": {
      "codemirror_mode": {
        "name": "ipython",
        "version": 3
      },
      "file_extension": ".py",
      "mimetype": "text/x-python",
      "name": "python",
      "nbconvert_exporter": "python",
      "pygments_lexer": "ipython3",
      "version": "3.13.1"
    }
  },
  "nbformat": 4,
  "nbformat_minor": 5
}
